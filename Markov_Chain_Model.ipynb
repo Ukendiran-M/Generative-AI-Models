{
  "nbformat": 4,
  "nbformat_minor": 0,
  "metadata": {
    "colab": {
      "provenance": [],
      "authorship_tag": "ABX9TyOjId36YSDmw2TR4TGfQEyY",
      "include_colab_link": true
    },
    "kernelspec": {
      "name": "python3",
      "display_name": "Python 3"
    },
    "language_info": {
      "name": "python"
    }
  },
  "cells": [
    {
      "cell_type": "markdown",
      "metadata": {
        "id": "view-in-github",
        "colab_type": "text"
      },
      "source": [
        "<a href=\"https://colab.research.google.com/github/Ukendiran-M/Mini-Project-Models/blob/main/Markov_Chain_Model.ipynb\" target=\"_parent\"><img src=\"https://colab.research.google.com/assets/colab-badge.svg\" alt=\"Open In Colab\"/></a>"
      ]
    },
    {
      "cell_type": "code",
      "source": [
        "!pip install numpy"
      ],
      "metadata": {
        "colab": {
          "base_uri": "https://localhost:8080/"
        },
        "id": "bgzf2SoHLU4r",
        "outputId": "c40adf53-dc47-48a8-f1da-d50097bda124"
      },
      "execution_count": 11,
      "outputs": [
        {
          "output_type": "stream",
          "name": "stdout",
          "text": [
            "Requirement already satisfied: numpy in /usr/local/lib/python3.10/dist-packages (1.26.4)\n"
          ]
        }
      ]
    },
    {
      "cell_type": "code",
      "source": [
        "import numpy as np\n",
        "import random\n",
        "import re"
      ],
      "metadata": {
        "id": "3OdODLRzLZQC"
      },
      "execution_count": 12,
      "outputs": []
    },
    {
      "cell_type": "code",
      "source": [
        "def process_text(text):\n",
        "  text = text.lower()\n",
        "  text = re.sub(r'[^a-z\\s]', '', text)\n",
        "  words = text.split()\n",
        "  return words"
      ],
      "metadata": {
        "id": "8kwKDX8ALjcN"
      },
      "execution_count": 13,
      "outputs": []
    },
    {
      "cell_type": "code",
      "source": [
        "def create_markov_chain(words, n=1):\n",
        "    markov_chain = {}\n",
        "\n",
        "    for i in range(len(words) - n):\n",
        "        key = tuple(words[i:i+n])\n",
        "        next_word = words[i+n]\n",
        "\n",
        "        if key not in markov_chain:\n",
        "            markov_chain[key] = []\n",
        "        markov_chain[key].append(next_word)\n",
        "\n",
        "    return markov_chain"
      ],
      "metadata": {
        "id": "GI4-ew5xLyYV"
      },
      "execution_count": 14,
      "outputs": []
    },
    {
      "cell_type": "code",
      "source": [
        "def generated_text(markov_chain, n=1, length=100):\n",
        "    key = random.choice(list(markov_chain.keys()))\n",
        "    result = list(key)\n",
        "\n",
        "    for _ in range(length - n):\n",
        "        if key in markov_chain:\n",
        "            next_word = random.choice(markov_chain[key])\n",
        "            result.append(next_word)\n",
        "            key = tuple(result[-n:])\n",
        "        else:\n",
        "            break\n",
        "\n",
        "    return ' '.join(result)"
      ],
      "metadata": {
        "id": "a5vcmuTDL73I"
      },
      "execution_count": 15,
      "outputs": []
    },
    {
      "cell_type": "code",
      "source": [
        "def load_text_file(file_path):\n",
        "    try:\n",
        "        with open(file_path, 'r', encoding='utf-8') as file:\n",
        "            text = file.read()\n",
        "        return text\n",
        "    except Exception as e:\n",
        "        print(f\"Error reading file: {e}\")\n",
        "        return None"
      ],
      "metadata": {
        "id": "-FYAVsBJMFD5"
      },
      "execution_count": 16,
      "outputs": []
    },
    {
      "cell_type": "code",
      "source": [
        "file_path = '/content/sample_text.txt'"
      ],
      "metadata": {
        "id": "KpkOEzfaMLuc"
      },
      "execution_count": 17,
      "outputs": []
    },
    {
      "cell_type": "code",
      "source": [
        "text = load_text_file(file_path)\n",
        "\n",
        "if text:\n",
        "    words = process_text(text)\n",
        "    n = 2\n",
        "\n",
        "    markov_chain = create_markov_chain(words, n=n)\n",
        "\n",
        "    generated_text = generate_text(markov_chain, n=n, length=100)\n",
        "    print(\"Generated Text:\")\n",
        "    print(generated_text)\n",
        "else:\n",
        "    print(\"No text data available for processing.\")"
      ],
      "metadata": {
        "colab": {
          "base_uri": "https://localhost:8080/"
        },
        "id": "P4uhrJdrMW2t",
        "outputId": "ea1dcd50-137c-4d44-83aa-d9ab08a8bbbf"
      },
      "execution_count": 18,
      "outputs": [
        {
          "output_type": "stream",
          "name": "stdout",
          "text": [
            "Generated Text:\n",
            "worked hard and built new lives for themselves but they pressed on driven by the river and the villagers were content with what they had one day a traveler arrived in the village and so after many years some of them returned to the land beyond the mountains filled with wonders and opportunities the villagers listened with curiosity but they were welcomed back with open arms and they lived out their days in peace surrounded by the beauty of nature once more\n"
          ]
        }
      ]
    },
    {
      "cell_type": "markdown",
      "source": [
        "# Create a sample text file\n",
        "sample_text = \"\"\"In a distant land, far beyond the mountains, there was a small village. The villagers lived in harmony with nature, tending to their crops and animals. Every morning, the sun would rise over the hills, casting a golden glow on the fields. The children would play by the river, their laughter echoing through the valley. Life in the village was peaceful, and the villagers were content with what they had.\n",
        "\n",
        "One day, a traveler arrived in the village. He spoke of a great city beyond the mountains, filled with wonders and opportunities. The villagers listened with curiosity, but they were hesitant to leave their home. The traveler stayed in the village for several days, sharing stories of his adventures and the marvels he had seen.\n",
        "\n",
        "Eventually, a few young villagers decided to follow the traveler and seek out the city beyond the mountains. They bid farewell to their families and set out on the journey. The path was difficult, with steep cliffs and dense forests, but they pressed on, driven by the promise of a new life.\n",
        "\n",
        "After many days of travel, they finally reached the city. It was unlike anything they had ever seen. Tall buildings, bustling markets, and people from all walks of life filled the streets. The villagers marveled at the sights and sounds, and they quickly adapted to their new surroundings.\n",
        "\n",
        "As time passed, the young villagers found their place in the city. They worked hard and built new lives for themselves, but they never forgot the village they had left behind. Every so often, they would gather and reminisce about their old home, the peaceful days by the river, and the simple life they once knew.\n",
        "\n",
        "Though they had found success in the city, a part of them longed for the tranquility of the village. And so, after many years, some of them returned to the land beyond the mountains, to the place where they had grown up. They were welcomed back with open arms, and they lived out their days in peace, surrounded by the beauty of nature once more.\"\"\"\n",
        "\n",
        "# Write the sample text to a file\n",
        "with open('/content/sample_text.txt', 'w') as file:\n",
        "    file.write(sample_text)\n",
        "\n",
        "print(\"Sample text file created successfully!\")"
      ],
      "metadata": {
        "id": "Y4rLEazOMssk"
      }
    }
  ]
}